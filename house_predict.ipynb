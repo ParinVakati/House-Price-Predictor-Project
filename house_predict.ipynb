{
 "cells": [
  {
   "cell_type": "code",
   "execution_count": null,
   "metadata": {},
   "outputs": [],
   "source": [
    "import pandas as pd\n",
    "import numpy as np\n",
    "\n",
    "pd.set_option('display.max_columns', None)\n",
    "pd.set_option('display.max_rows', None)\n",
    "\n",
    "df = pd.read_csv(\"housedata.csv\")\n",
    "df.drop(['SizeRank', 'RegionType', 'RegionName', 'StateName', 'Metro', 'CountyName'], axis=1, inplace=True)\n",
    "cols = list(df.columns)\n",
    "#df.dropna(inplace=True)\n",
    "rows = df.shape[0]"
   ]
  },
  {
   "cell_type": "code",
   "execution_count": null,
   "metadata": {},
   "outputs": [],
   "source": [
    "for row in range(rows):\n",
    "  for idx, col in enumerate(cols):\n",
    "    if col in ['RegionID', 'State', 'City']:\n",
    "      continue\n",
    "    if pd.isna(df.at[row, col]):\n",
    "      while(pd.isna(df.at[row, col])):\n",
    "        try:\n",
    "          df.loc[row, col] = np.nanmin(df.iloc[row, idx+1:].values)\n",
    "        except:\n",
    "          df.loc[row, col] = np.nanmax(df.iloc[row, :idx].values)\n",
    "        print(f'Replaced NA at row {row} and col {idx} with value {df.at[row, col]}')"
   ]
  },
  {
   "cell_type": "code",
   "execution_count": null,
   "metadata": {},
   "outputs": [],
   "source": [
    "import matplotlib.pyplot as plt \n",
    "from statsmodels.tsa.seasonal import seasonal_decompose \n",
    "\n",
    "result = seasonal_decompose(df['House price'],  \n",
    "                            model ='multiplicative') \n",
    "result.plot()"
   ]
  },
  {
   "cell_type": "code",
   "execution_count": null,
   "metadata": {},
   "outputs": [],
   "source": [
    "from pmdarima import auto_arima \n",
    "  \n",
    "# Ignore harmless warnings \n",
    "import warnings \n",
    "warnings.filterwarnings(\"ignore\") \n",
    "  \n",
    "# Fit auto_arima function to AirPassengers dataset \n",
    "stepwise_fit = auto_arima(df['House price'], start_p = 1, start_q = 1, \n",
    "                          max_p = 3, max_q = 3, m = 12, \n",
    "                          start_P = 0, seasonal = True, \n",
    "                          d = None, D = 1, trace = True, \n",
    "                          error_action ='ignore',   # we don't want to know if an order does not work \n",
    "                          suppress_warnings = True,  # we don't want convergence warnings \n",
    "                          stepwise = True)           # set to stepwise \n",
    "  \n",
    "# To print the summary \n",
    "stepwise_fit.summary() "
   ]
  },
  {
   "cell_type": "code",
   "execution_count": null,
   "metadata": {},
   "outputs": [],
   "source": [
    "train = df.iloc[:len(df)-12] \n",
    "test = df.iloc[len(df)-12:] # set one year(12 months) for testing \n",
    "  \n",
    "# Fit a SARIMAX(0, 1, 1)x(2, 1, 1, 12) on the training set \n",
    "from statsmodels.tsa.statespace.sarimax import SARIMAX\n",
    "  \n",
    "model = SARIMAX(train['House price'],  \n",
    "                order = (0, 1, 1),  \n",
    "                seasonal_order =(2, 1, 1, 12)) \n",
    "  \n",
    "result = model.fit() \n",
    "result.summary() "
   ]
  },
  {
   "cell_type": "code",
   "execution_count": null,
   "metadata": {},
   "outputs": [],
   "source": [
    "start = len(train) \n",
    "end = len(train) + len(test) - 1\n",
    "  \n",
    "# Predictions for one-year against the test set \n",
    "predictions = result.predict(start, end, \n",
    "                             typ = 'levels').rename(\"Predictions\") \n",
    "  \n",
    "# plot predictions and actual values \n",
    "predictions.plot(legend = True) \n",
    "test['House price'].plot(legend = True) "
   ]
  },
  {
   "cell_type": "code",
   "execution_count": null,
   "metadata": {},
   "outputs": [],
   "source": [
    "from sklearn.metrics import mean_squared_error \n",
    "from statsmodels.tools.eval_measures import rmse \n",
    "  \n",
    "# Calculate root mean squared error \n",
    "rmse(test[\"House price\"], predictions) \n",
    "  \n",
    "# Calculate mean squared error \n",
    "mean_squared_error(test[\"House price\"], predictions) "
   ]
  },
  {
   "cell_type": "code",
   "execution_count": null,
   "metadata": {},
   "outputs": [],
   "source": [
    "# Train the model on the full dataset \n",
    "model = model = SARIMAX(df['House price'],  \n",
    "                        order = (0, 1, 1),  \n",
    "                        seasonal_order =(2, 1, 1, 12)) \n",
    "result = model.fit() \n",
    "  \n",
    "# Forecast for the next 3 years \n",
    "forecast = result.predict(start = len(df),  \n",
    "                          end = (len(df)-1) + 3 * 12,  \n",
    "                          typ = 'levels').rename('Forecast') \n",
    "  \n",
    "# Plot the forecast values \n",
    "df['House price'].plot(figsize = (12, 5), legend = True) \n",
    "forecast.plot(legend = True) "
   ]
  },
  {
   "cell_type": "code",
   "execution_count": null,
   "metadata": {},
   "outputs": [
    {
     "ename": "ImportError",
     "evalue": "Plotly Express requires numpy to be installed. You can install numpy using pip with:\n\n$ pip install numpy\n\nOr install Plotly Express and its dependencies directly with:\n\n$ pip install \"plotly[express]\"\n\nYou can also use Plotly Graph Objects to create a large number of charts without installing\nnumpy. See examples here: https://plotly.com/python/graph-objects/\n",
     "output_type": "error",
     "traceback": [
      "\u001b[31m---------------------------------------------------------------------------\u001b[39m",
      "\u001b[31mImportError\u001b[39m                               Traceback (most recent call last)",
      "\u001b[36mCell\u001b[39m\u001b[36m \u001b[39m\u001b[32mIn[9]\u001b[39m\u001b[32m, line 2\u001b[39m\n\u001b[32m      1\u001b[39m \u001b[38;5;28;01mfrom\u001b[39;00m\u001b[38;5;250m \u001b[39m\u001b[34;01mdash\u001b[39;00m\u001b[38;5;250m \u001b[39m\u001b[38;5;28;01mimport\u001b[39;00m Dash, html, dcc, callback, Output, Input\n\u001b[32m----> \u001b[39m\u001b[32m2\u001b[39m \u001b[38;5;28;01mimport\u001b[39;00m\u001b[38;5;250m \u001b[39m\u001b[34;01mplotly\u001b[39;00m\u001b[34;01m.\u001b[39;00m\u001b[34;01mexpress\u001b[39;00m\u001b[38;5;250m \u001b[39m\u001b[38;5;28;01mas\u001b[39;00m\u001b[38;5;250m \u001b[39m\u001b[34;01mpx\u001b[39;00m\n\u001b[32m      3\u001b[39m \u001b[38;5;28;01mimport\u001b[39;00m\u001b[38;5;250m \u001b[39m\u001b[34;01mpandas\u001b[39;00m\u001b[38;5;250m \u001b[39m\u001b[38;5;28;01mas\u001b[39;00m\u001b[38;5;250m \u001b[39m\u001b[34;01mpd\u001b[39;00m\n\u001b[32m      4\u001b[39m \u001b[38;5;28;01mfrom\u001b[39;00m\u001b[38;5;250m \u001b[39m\u001b[34;01mjupyter_dash\u001b[39;00m\u001b[38;5;250m \u001b[39m\u001b[38;5;28;01mimport\u001b[39;00m JupyterDash\n",
      "\u001b[36mFile \u001b[39m\u001b[32m~\\AppData\\Local\\Packages\\PythonSoftwareFoundation.Python.3.11_qbz5n2kfra8p0\\LocalCache\\local-packages\\Python311\\site-packages\\plotly\\express\\__init__.py:10\u001b[39m\n\u001b[32m      8\u001b[39m np = optional_imports.get_module(\u001b[33m\"\u001b[39m\u001b[33mnumpy\u001b[39m\u001b[33m\"\u001b[39m)\n\u001b[32m      9\u001b[39m \u001b[38;5;28;01mif\u001b[39;00m np \u001b[38;5;129;01mis\u001b[39;00m \u001b[38;5;28;01mNone\u001b[39;00m:\n\u001b[32m---> \u001b[39m\u001b[32m10\u001b[39m     \u001b[38;5;28;01mraise\u001b[39;00m \u001b[38;5;167;01mImportError\u001b[39;00m(\n\u001b[32m     11\u001b[39m \u001b[38;5;250m        \u001b[39m\u001b[33;03m\"\"\"\\\u001b[39;00m\n\u001b[32m     12\u001b[39m \u001b[33;03mPlotly Express requires numpy to be installed. You can install numpy using pip with:\u001b[39;00m\n\u001b[32m     13\u001b[39m \n\u001b[32m     14\u001b[39m \u001b[33;03m$ pip install numpy\u001b[39;00m\n\u001b[32m     15\u001b[39m \n\u001b[32m     16\u001b[39m \u001b[33;03mOr install Plotly Express and its dependencies directly with:\u001b[39;00m\n\u001b[32m     17\u001b[39m \n\u001b[32m     18\u001b[39m \u001b[33;03m$ pip install \"plotly[express]\"\u001b[39;00m\n\u001b[32m     19\u001b[39m \n\u001b[32m     20\u001b[39m \u001b[33;03mYou can also use Plotly Graph Objects to create a large number of charts without installing\u001b[39;00m\n\u001b[32m     21\u001b[39m \u001b[33;03mnumpy. See examples here: https://plotly.com/python/graph-objects/\u001b[39;00m\n\u001b[32m     22\u001b[39m \u001b[33;03m\"\"\"\u001b[39;00m\n\u001b[32m     23\u001b[39m     )\n\u001b[32m     25\u001b[39m \u001b[38;5;28;01mfrom\u001b[39;00m\u001b[38;5;250m \u001b[39m\u001b[34;01m.\u001b[39;00m\u001b[34;01m_imshow\u001b[39;00m\u001b[38;5;250m \u001b[39m\u001b[38;5;28;01mimport\u001b[39;00m imshow\n\u001b[32m     26\u001b[39m \u001b[38;5;28;01mfrom\u001b[39;00m\u001b[38;5;250m \u001b[39m\u001b[34;01m.\u001b[39;00m\u001b[34;01m_chart_types\u001b[39;00m\u001b[38;5;250m \u001b[39m\u001b[38;5;28;01mimport\u001b[39;00m (  \u001b[38;5;66;03m# noqa: F401\u001b[39;00m\n\u001b[32m     27\u001b[39m     scatter,\n\u001b[32m     28\u001b[39m     scatter_3d,\n\u001b[32m   (...)\u001b[39m\u001b[32m     65\u001b[39m     density_mapbox,\n\u001b[32m     66\u001b[39m )\n",
      "\u001b[31mImportError\u001b[39m: Plotly Express requires numpy to be installed. You can install numpy using pip with:\n\n$ pip install numpy\n\nOr install Plotly Express and its dependencies directly with:\n\n$ pip install \"plotly[express]\"\n\nYou can also use Plotly Graph Objects to create a large number of charts without installing\nnumpy. See examples here: https://plotly.com/python/graph-objects/\n"
     ]
    }
   ],
   "source": [
    "\n",
    "import pandas as pd\n",
    "import numpy as np\n",
    "\n",
    "pd.set_option('display.max_columns', None)\n",
    "pd.set_option('display.max_rows', None)\n",
    "\n",
    "df = pd.read_csv(\"housedata.csv\")\n",
    "df.drop(['SizeRank', 'RegionType', 'RegionName', 'StateName', 'Metro', 'CountyName'], axis=1, inplace=True)\n",
    "cols = list(df.columns)\n",
    "#df.dropna(inplace=True)\n",
    "rows = df.shape[0]\n",
    "for row in range(rows):\n",
    "  for idx, col in enumerate(cols):\n",
    "    if col in ['RegionID', 'State', 'City']:\n",
    "      continue\n",
    "    if pd.isna(df.at[row, col]):\n",
    "      while(pd.isna(df.at[row, col])):\n",
    "        try:\n",
    "          df.loc[row, col] = np.nanmin(df.iloc[row, idx+1:].values)\n",
    "        except:\n",
    "          df.loc[row, col] = np.nanmax(df.iloc[row, :idx].values)\n",
    "        print(f'Replaced NA at row {row} and col {idx} with value {df.at[row, col]}')\n",
    "df.head()\n",
    "unpivoted_df = df.melt(id_vars=list(df.columns)[0:3], value_vars=list(df.columns)[3:], var_name='Date', value_name='HousePrice')\n",
    "unpivoted_df.head()\n",
    "from statsmodels.tsa.stattools import adfuller\n",
    "\n",
    "interested_zip_code = 91733\n",
    "# Check for stationarity\n",
    "arima_df = unpivoted_df.loc[unpivoted_df['RegionID'] == interested_zip_code]\n",
    "\n",
    "arima_df.head()\n",
    "# TODO - Fix dataframe so that we can interact with ARIMA and adfuller appropriately\n",
    "# Example data was Month, Passengers; Our data maybe can alter to Month, Zip, Price\n",
    "result = adfuller(arima_df['HousePrice'])\n",
    "print('ADF Statistic:', result[0])\n",
    "print('p-value:', result[1])\n",
    "# Since the p-value is > 0.05, the data is not stationary. We need to difference it.\n",
    "airline_data_diff = airline_data.diff().dropna()\n",
    "\n",
    "# Check for stationarity again\n",
    "result = adfuller(airline_data_diff['Passengers'])\n",
    "print('ADF Statistic:', result[0])\n",
    "print('p-value:', result[1])\n",
    "from statsmodels.tsa.arima.model import ARIMA\n",
    "\n",
    "# Fit the ARMA(1, 1) model\n",
    "model = ARIMA(airline_data_diff, order=(1, 0, 1))\n",
    "model_fit = model.fit()\n",
    "\n",
    "# Print the model summary\n",
    "print(model_fit.summary())\n",
    "import pandas as pd\n",
    "\n",
    "# Sample DataFrame\n",
    "data = {'ID': [1, 2, 3], \n",
    "        'Name': ['Alice', 'Bob', 'Charlie'],\n",
    "        'Math': [90, 80, 70],\n",
    "        'Science': [85, 75, 95]}\n",
    "df_test = pd.DataFrame(data)\n",
    "print(\"Original DataFrame:\")\n",
    "print(df_test)\n",
    "\n",
    "# Unpivoting using melt()\n",
    "unpivoted_df = df_test.melt(id_vars=['ID', 'Name'], \n",
    "                      value_vars=['Math', 'Science'], \n",
    "                      var_name='Subject', \n",
    "                      value_name='Score')\n",
    "\n",
    "print(\"\\nUnpivoted DataFrame:\")\n",
    "print(unpivoted_df)\n",
    "print(list(df_test.columns)[0:2])\n",
    " "
   ]
  }
 ],
 "metadata": {
  "kernelspec": {
   "display_name": "Python 3",
   "language": "python",
   "name": "python3"
  },
  "language_info": {
   "codemirror_mode": {
    "name": "ipython",
    "version": 3
   },
   "file_extension": ".py",
   "mimetype": "text/x-python",
   "name": "python",
   "nbconvert_exporter": "python",
   "pygments_lexer": "ipython3",
   "version": "3.12.9"
  }
 },
 "nbformat": 4,
 "nbformat_minor": 2
}
