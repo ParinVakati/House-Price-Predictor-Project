{
 "cells": [
  {
   "cell_type": "code",
   "execution_count": 2,
   "metadata": {},
   "outputs": [],
   "source": [
    "import pandas as pd\n",
    "import numpy as np\n",
    "\n",
    "pd.set_option('display.max_columns', None)\n",
    "pd.set_option('display.max_rows', None)\n",
    "\n",
    "df = pd.read_csv(\"housedata.csv\")\n",
    "df.drop(['SizeRank', 'RegionType', 'RegionName', 'StateName', 'Metro', 'CountyName'], axis=1, inplace=True)\n",
    "cols = list(df.columns)\n",
    "#df.dropna(inplace=True)\n",
    "rows = df.shape[0]"
   ]
  },
  {
   "cell_type": "code",
   "execution_count": null,
   "metadata": {},
   "outputs": [],
   "source": [
    "for row in range(rows):\n",
    "  for idx, col in enumerate(cols):\n",
    "    if col in ['RegionID', 'State', 'City']:\n",
    "      continue\n",
    "    if pd.isna(df.at[row, col]):\n",
    "      while(pd.isna(df.at[row, col])):\n",
    "        try:\n",
    "          df.loc[row, col] = np.nanmin(df.iloc[row, idx+1:].values)\n",
    "        except:\n",
    "          df.loc[row, col] = np.nanmax(df.iloc[row, :idx].values)\n",
    "        print(f'Replaced NA at row {row} and col {idx} with value {df.at[row, col]}')"
   ]
  }
 ],
 "metadata": {
  "kernelspec": {
   "display_name": "Python 3",
   "language": "python",
   "name": "python3"
  },
  "language_info": {
   "codemirror_mode": {
    "name": "ipython",
    "version": 3
   },
   "file_extension": ".py",
   "mimetype": "text/x-python",
   "name": "python",
   "nbconvert_exporter": "python",
   "pygments_lexer": "ipython3",
   "version": "3.12.9"
  }
 },
 "nbformat": 4,
 "nbformat_minor": 2
}
