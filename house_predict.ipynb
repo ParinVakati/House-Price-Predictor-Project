{
 "cells": [
  {
   "cell_type": "code",
   "execution_count": null,
   "metadata": {},
   "outputs": [],
   "source": [
    "import pandas as pd\n",
    "import numpy as np\n",
    "\n",
    "pd.set_option('display.max_columns', None)\n",
    "pd.set_option('display.max_rows', None)\n",
    "\n",
    "df = pd.read_csv(\"housedata.csv\")\n",
    "df.drop(['SizeRank', 'RegionType', 'RegionName', 'StateName', 'Metro', 'CountyName'], axis=1, inplace=True)\n",
    "cols = list(df.columns)\n",
    "#df.dropna(inplace=True)\n",
    "rows = df.shape[0]"
   ]
  },
  {
   "cell_type": "code",
   "execution_count": null,
   "metadata": {},
   "outputs": [],
   "source": [
    "for row in range(rows):\n",
    "  for idx, col in enumerate(cols):\n",
    "    if col in ['RegionID', 'State', 'City']:\n",
    "      continue\n",
    "    if pd.isna(df.at[row, col]):\n",
    "      while(pd.isna(df.at[row, col])):\n",
    "        try:\n",
    "          df.loc[row, col] = np.nanmin(df.iloc[row, idx+1:].values)\n",
    "        except:\n",
    "          df.loc[row, col] = np.nanmax(df.iloc[row, :idx].values)\n",
    "        print(f'Replaced NA at row {row} and col {idx} with value {df.at[row, col]}')"
   ]
  },
  {
   "cell_type": "code",
   "execution_count": null,
   "metadata": {},
   "outputs": [],
   "source": [
    "df.head()"
   ]
  },
  {
   "cell_type": "code",
   "execution_count": null,
   "metadata": {},
   "outputs": [],
   "source": [
    "unpivoted_df = df.melt(id_vars=list(df.columns)[0:3], value_vars=list(df.columns)[3:], var_name='Date', value_name='HousePrice')"
   ]
  },
  {
   "cell_type": "code",
   "execution_count": null,
   "metadata": {},
   "outputs": [],
   "source": [
    "unpivoted_df.head()"
   ]
  },
  {
   "cell_type": "code",
   "execution_count": null,
   "metadata": {},
   "outputs": [],
   "source": [
    "from statsmodels.tsa.stattools import adfuller\n",
    "\n",
    "interested_zip_code = 91733\n",
    "# Check for stationarity\n",
    "arima_df = unpivoted_df.loc[unpivoted_df['RegionID'] == interested_zip_code]\n",
    "\n",
    "arima_df.head()"
   ]
  },
  {
   "cell_type": "code",
   "execution_count": null,
   "metadata": {},
   "outputs": [],
   "source": [
    "# TODO - Fix dataframe so that we can interact with ARIMA and adfuller appropriately\n",
    "# Example data was Month, Passengers; Our data maybe can alter to Month, Zip, Price\n",
    "result = adfuller(arima_df['HousePrice'])\n",
    "print('ADF Statistic:', result[0])\n",
    "print('p-value:', result[1])"
   ]
  },
  {
   "cell_type": "code",
   "execution_count": null,
   "metadata": {},
   "outputs": [],
   "source": [
    "# Since the p-value is > 0.05, the data is not stationary. We need to difference it.\n",
    "airline_data_diff = airline_data.diff().dropna()\n",
    "\n",
    "# Check for stationarity again\n",
    "result = adfuller(airline_data_diff['Passengers'])\n",
    "print('ADF Statistic:', result[0])\n",
    "print('p-value:', result[1])"
   ]
  },
  {
   "cell_type": "code",
   "execution_count": null,
   "metadata": {},
   "outputs": [],
   "source": [
    "from statsmodels.tsa.arima.model import ARIMA\n",
    "\n",
    "# Fit the ARMA(1, 1) model\n",
    "model = ARIMA(airline_data_diff, order=(1, 0, 1))\n",
    "model_fit = model.fit()\n",
    "\n",
    "# Print the model summary\n",
    "print(model_fit.summary())"
   ]
  },
  {
   "cell_type": "code",
   "execution_count": null,
   "metadata": {},
   "outputs": [],
   "source": [
    "import pandas as pd\n",
    "\n",
    "# Sample DataFrame\n",
    "data = {'ID': [1, 2, 3], \n",
    "        'Name': ['Alice', 'Bob', 'Charlie'],\n",
    "        'Math': [90, 80, 70],\n",
    "        'Science': [85, 75, 95]}\n",
    "df_test = pd.DataFrame(data)\n",
    "print(\"Original DataFrame:\")\n",
    "print(df_test)\n",
    "\n",
    "# Unpivoting using melt()\n",
    "unpivoted_df = df_test.melt(id_vars=['ID', 'Name'], \n",
    "                      value_vars=['Math', 'Science'], \n",
    "                      var_name='Subject', \n",
    "                      value_name='Score')\n",
    "\n",
    "print(\"\\nUnpivoted DataFrame:\")\n",
    "print(unpivoted_df)"
   ]
  },
  {
   "cell_type": "code",
   "execution_count": null,
   "metadata": {},
   "outputs": [],
   "source": [
    "print(list(df_test.columns)[0:2])"
   ]
  },
  {
   "cell_type": "code",
   "execution_count": null,
   "metadata": {},
   "outputs": [],
   "source": []
  }
 ],
 "metadata": {
  "kernelspec": {
   "display_name": "Python 3",
   "language": "python",
   "name": "python3"
  },
  "language_info": {
   "codemirror_mode": {
    "name": "ipython",
    "version": 3
   },
   "file_extension": ".py",
   "mimetype": "text/x-python",
   "name": "python",
   "nbconvert_exporter": "python",
   "pygments_lexer": "ipython3",
   "version": "3.12.9"
  }
 },
 "nbformat": 4,
 "nbformat_minor": 2
}
